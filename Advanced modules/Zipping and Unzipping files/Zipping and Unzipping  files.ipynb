{
 "cells": [
  {
   "cell_type": "code",
   "execution_count": 1,
   "id": "0b3a8020",
   "metadata": {},
   "outputs": [],
   "source": [
    "f=open('fileone.txt','w+')\n",
    "f.write('One file')\n",
    "f.close()"
   ]
  },
  {
   "cell_type": "code",
   "execution_count": 2,
   "id": "bf58b97a",
   "metadata": {},
   "outputs": [],
   "source": [
    "f=open('filetwo.txt','w+')\n",
    "f.write('Two file')\n",
    "f.close()"
   ]
  },
  {
   "cell_type": "code",
   "execution_count": 3,
   "id": "221817fd",
   "metadata": {},
   "outputs": [],
   "source": [
    "import zipfile"
   ]
  },
  {
   "cell_type": "code",
   "execution_count": 4,
   "id": "490832ae",
   "metadata": {},
   "outputs": [],
   "source": [
    "comp_file=zipfile.ZipFile('compressfile.zip','w')\n",
    "comp_file.write('fileone.txt',compress_type=zipfile.ZIP_DEFLATED)"
   ]
  },
  {
   "cell_type": "code",
   "execution_count": 5,
   "id": "e03b57b9",
   "metadata": {},
   "outputs": [],
   "source": [
    "comp_file.write('filetwo.txt',compress_type=zipfile.ZIP_DEFLATED)"
   ]
  },
  {
   "cell_type": "code",
   "execution_count": 6,
   "id": "78d02d6e",
   "metadata": {},
   "outputs": [],
   "source": [
    "comp_file.close()"
   ]
  },
  {
   "cell_type": "code",
   "execution_count": 8,
   "id": "6f7f7c06",
   "metadata": {},
   "outputs": [],
   "source": [
    "zip_obj=zipfile.ZipFile('compressfile.zip','r')"
   ]
  },
  {
   "cell_type": "code",
   "execution_count": 10,
   "id": "b3871553",
   "metadata": {},
   "outputs": [
    {
     "data": {
      "text/plain": [
       "'C:\\\\Users\\\\Md.Abdullah\\\\Python\\\\Advanced modules\\\\Zipping and Unzipping files\\\\fileone.txt'"
      ]
     },
     "execution_count": 10,
     "metadata": {},
     "output_type": "execute_result"
    }
   ],
   "source": [
    "zip_obj.extract('fileone.txt')"
   ]
  },
  {
   "cell_type": "code",
   "execution_count": 11,
   "id": "23887a36",
   "metadata": {},
   "outputs": [],
   "source": [
    "zip_obj.extractall('extracted_contact')"
   ]
  },
  {
   "cell_type": "code",
   "execution_count": 12,
   "id": "3520ef25",
   "metadata": {},
   "outputs": [
    {
     "data": {
      "text/plain": [
       "'C:\\\\Users\\\\Md.Abdullah\\\\Python\\\\Advanced modules\\\\Zipping and Unzipping files'"
      ]
     },
     "execution_count": 12,
     "metadata": {},
     "output_type": "execute_result"
    }
   ],
   "source": [
    "pwd"
   ]
  },
  {
   "cell_type": "code",
   "execution_count": 13,
   "id": "751c52e2",
   "metadata": {},
   "outputs": [],
   "source": [
    "import shutil"
   ]
  },
  {
   "cell_type": "code",
   "execution_count": 14,
   "id": "75f5abf1",
   "metadata": {},
   "outputs": [],
   "source": [
    "dir_to_zip=\"C:\\\\Users\\\\Md.Abdullah\\\\Python\\\\Advanced modules\\\\Zipping and Unzipping files\\extracted_contact\""
   ]
  },
  {
   "cell_type": "code",
   "execution_count": 15,
   "id": "0d8c67fd",
   "metadata": {},
   "outputs": [],
   "source": [
    "outfile_name='exame'\n"
   ]
  },
  {
   "cell_type": "code",
   "execution_count": 16,
   "id": "6d6de63a",
   "metadata": {},
   "outputs": [
    {
     "data": {
      "text/plain": [
       "'C:\\\\Users\\\\Md.Abdullah\\\\Python\\\\Advanced modules\\\\Zipping and Unzipping files\\\\exame.zip'"
      ]
     },
     "execution_count": 16,
     "metadata": {},
     "output_type": "execute_result"
    }
   ],
   "source": [
    "shutil.make_archive(outfile_name,'zip',dir_to_zip)"
   ]
  },
  {
   "cell_type": "code",
   "execution_count": 18,
   "id": "3d7c28c4",
   "metadata": {},
   "outputs": [],
   "source": [
    "shutil.unpack_archive('exame.zip','final_unzip','zip')"
   ]
  },
  {
   "cell_type": "code",
   "execution_count": null,
   "id": "fcb8179b",
   "metadata": {},
   "outputs": [],
   "source": []
  }
 ],
 "metadata": {
  "kernelspec": {
   "display_name": "Python 3",
   "language": "python",
   "name": "python3"
  },
  "language_info": {
   "codemirror_mode": {
    "name": "ipython",
    "version": 3
   },
   "file_extension": ".py",
   "mimetype": "text/x-python",
   "name": "python",
   "nbconvert_exporter": "python",
   "pygments_lexer": "ipython3",
   "version": "3.8.5"
  }
 },
 "nbformat": 4,
 "nbformat_minor": 5
}

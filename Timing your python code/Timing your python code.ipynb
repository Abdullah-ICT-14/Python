{
 "cells": [
  {
   "cell_type": "code",
   "execution_count": 1,
   "id": "5b065ccb",
   "metadata": {},
   "outputs": [],
   "source": [
    "def function_str(n):\n",
    "    return [str(i) for i in range(n)]"
   ]
  },
  {
   "cell_type": "code",
   "execution_count": 2,
   "id": "3e4bc1e1",
   "metadata": {},
   "outputs": [
    {
     "data": {
      "text/plain": [
       "['0', '1', '2', '3', '4', '5', '6', '7', '8', '9']"
      ]
     },
     "execution_count": 2,
     "metadata": {},
     "output_type": "execute_result"
    }
   ],
   "source": [
    "function_str(10)"
   ]
  },
  {
   "cell_type": "code",
   "execution_count": 3,
   "id": "b9a5e061",
   "metadata": {},
   "outputs": [],
   "source": [
    "def function_map(n):\n",
    "    return list(map(str,range(n)))"
   ]
  },
  {
   "cell_type": "code",
   "execution_count": 4,
   "id": "ba6371bd",
   "metadata": {},
   "outputs": [
    {
     "data": {
      "text/plain": [
       "['0', '1', '2', '3', '4', '5', '6', '7', '8', '9']"
      ]
     },
     "execution_count": 4,
     "metadata": {},
     "output_type": "execute_result"
    }
   ],
   "source": [
    "function_map(10)"
   ]
  },
  {
   "cell_type": "code",
   "execution_count": 5,
   "id": "743460d2",
   "metadata": {},
   "outputs": [],
   "source": [
    "import time"
   ]
  },
  {
   "cell_type": "code",
   "execution_count": 6,
   "id": "b4556103",
   "metadata": {},
   "outputs": [
    {
     "name": "stdout",
     "output_type": "stream",
     "text": [
      "1619437246.506507\n",
      "1619437246.506507\n",
      "0.0\n"
     ]
    }
   ],
   "source": [
    "# Current time before run code\n",
    "start_time=time.time()\n",
    "\n",
    "# Current time after running code\n",
    "result=function_str(10)\n",
    "end_time=time.time()\n",
    "\n",
    "# Elapsedt time\n",
    "elapsed_time=end_time-start_time\n",
    "print(start_time)\n",
    "print(end_time)\n",
    "print(elapsed_time)"
   ]
  },
  {
   "cell_type": "code",
   "execution_count": 7,
   "id": "a900906b",
   "metadata": {},
   "outputs": [
    {
     "name": "stdout",
     "output_type": "stream",
     "text": [
      "1619437281.9236526\n",
      "1619437287.551434\n",
      "5.627781391143799\n"
     ]
    }
   ],
   "source": [
    "# Current time before run code\n",
    "start_time=time.time()\n",
    "\n",
    "# Current time after running code\n",
    "result=function_str(10000000)\n",
    "end_time=time.time()\n",
    "\n",
    "# Elapsedt time\n",
    "elapsed_time=end_time-start_time\n",
    "print(start_time)\n",
    "print(end_time)\n",
    "print(elapsed_time)"
   ]
  },
  {
   "cell_type": "code",
   "execution_count": 8,
   "id": "3585dda9",
   "metadata": {},
   "outputs": [],
   "source": [
    "import timeit"
   ]
  },
  {
   "cell_type": "code",
   "execution_count": 9,
   "id": "a621eaf5",
   "metadata": {},
   "outputs": [],
   "source": [
    "stmt=\"\"\"\n",
    "function_str(100)\n",
    "\"\"\"\n"
   ]
  },
  {
   "cell_type": "code",
   "execution_count": 11,
   "id": "c81afb33",
   "metadata": {},
   "outputs": [],
   "source": [
    "setup=\"\"\"\n",
    "def function_str(n):\n",
    "    return [str(i) for i in range(n)]\n",
    "\"\"\""
   ]
  },
  {
   "cell_type": "code",
   "execution_count": 17,
   "id": "54364c1a",
   "metadata": {},
   "outputs": [
    {
     "data": {
      "text/plain": [
       "4.452575099999876"
      ]
     },
     "execution_count": 17,
     "metadata": {},
     "output_type": "execute_result"
    }
   ],
   "source": [
    "timeit.timeit(stmt,setup,number=100000)"
   ]
  },
  {
   "cell_type": "code",
   "execution_count": 14,
   "id": "2d82ad0c",
   "metadata": {},
   "outputs": [],
   "source": [
    "stmt2=\"\"\"\n",
    "function_map(100)\n",
    "\"\"\""
   ]
  },
  {
   "cell_type": "code",
   "execution_count": 15,
   "id": "d80ca7e8",
   "metadata": {},
   "outputs": [],
   "source": [
    "setup2=\"\"\"\n",
    "def function_map(n):\n",
    "    return list(map(str,range(n)))\n",
    "\"\"\""
   ]
  },
  {
   "cell_type": "code",
   "execution_count": 18,
   "id": "3cc8f577",
   "metadata": {},
   "outputs": [
    {
     "data": {
      "text/plain": [
       "3.3197712999999567"
      ]
     },
     "execution_count": 18,
     "metadata": {},
     "output_type": "execute_result"
    }
   ],
   "source": [
    "timeit.timeit(stmt2,setup2,number=100000)"
   ]
  },
  {
   "cell_type": "code",
   "execution_count": 19,
   "id": "350d3dc5",
   "metadata": {},
   "outputs": [
    {
     "name": "stdout",
     "output_type": "stream",
     "text": [
      "43.7 µs ± 3 µs per loop (mean ± std. dev. of 7 runs, 10000 loops each)\n"
     ]
    }
   ],
   "source": [
    "%%timeit\n",
    "function_str(100)"
   ]
  },
  {
   "cell_type": "code",
   "execution_count": 20,
   "id": "f920ee77",
   "metadata": {},
   "outputs": [
    {
     "name": "stdout",
     "output_type": "stream",
     "text": [
      "31.9 µs ± 1.58 µs per loop (mean ± std. dev. of 7 runs, 10000 loops each)\n"
     ]
    }
   ],
   "source": [
    "%%timeit\n",
    "function_map(100)"
   ]
  },
  {
   "cell_type": "code",
   "execution_count": null,
   "id": "249ccecf",
   "metadata": {},
   "outputs": [],
   "source": []
  }
 ],
 "metadata": {
  "kernelspec": {
   "display_name": "Python 3",
   "language": "python",
   "name": "python3"
  },
  "language_info": {
   "codemirror_mode": {
    "name": "ipython",
    "version": 3
   },
   "file_extension": ".py",
   "mimetype": "text/x-python",
   "name": "python",
   "nbconvert_exporter": "python",
   "pygments_lexer": "ipython3",
   "version": "3.8.5"
  }
 },
 "nbformat": 4,
 "nbformat_minor": 5
}

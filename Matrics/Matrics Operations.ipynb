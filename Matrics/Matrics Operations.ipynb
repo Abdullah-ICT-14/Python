{
 "cells": [
  {
   "cell_type": "code",
   "execution_count": 1,
   "id": "1160a9ea",
   "metadata": {},
   "outputs": [],
   "source": [
    "#Dear Student,\n",
    "#\n",
    "#Welcome to the world of Basketball Data!\n",
    "#I'm sure you will enjoy this section of the Python Programming course.\n",
    "#\n",
    "#Instructions for this dataset:\n",
    "# Simply copy ALL the lines in this script by pressing \n",
    "# CTRL+A on Windows or CMND+A on Mac and run the Jupyter cell\n",
    "# Once you have executed the commands the following objects\n",
    "# will be created:\n",
    "# Matrices:\n",
    "# - Salary\n",
    "# - Games\n",
    "# - MinutesPlayed\n",
    "# - FieldGoals\n",
    "# - FieldGoalAttempts\n",
    "# - Points\n",
    "# Lists:\n",
    "# - Players\n",
    "# - Seasons\n",
    "# Dictionaries:\n",
    "# - Sdict\n",
    "# - Pdict\n",
    "#We will understand these inside the course.\n",
    "#\n",
    "#Sincerely,\n",
    "#Kirill Eremenko\n",
    "#www.superdatascience.com\n",
    "\n",
    "#Copyright: These datasets were prepared using publicly available data.\n",
    "#           However, theses scripts are subject to Copyright Laws. \n",
    "#           If you wish to use these Python scripts outside of the Python Programming Course\n",
    "#           by Kirill Eremenko, you may do so by referencing www.superdatascience.com in your work.\n",
    "\n",
    "#Comments:\n",
    "#Seasons are labeled based on the first year in the season\n",
    "#E.g. the 2012-2013 season is preseneted as simply 2012\n",
    "\n",
    "#Notes and Corrections to the data:\n",
    "#Kevin Durant: 2006 - College Data Used\n",
    "#Kevin Durant: 2005 - Proxied With 2006 Data\n",
    "#Derrick Rose: 2012 - Did Not Play\n",
    "#Derrick Rose: 2007 - College Data Used\n",
    "#Derrick Rose: 2006 - Proxied With 2007 Data\n",
    "#Derrick Rose: 2005 - Proxied With 2007 Data\n",
    "\n",
    "#Import numpy\n",
    "import numpy as np\n",
    "\n",
    "#Seasons\n",
    "Seasons = [\"2005\",\"2006\",\"2007\",\"2008\",\"2009\",\"2010\",\"2011\",\"2012\",\"2013\",\"2014\"]\n",
    "Sdict = {\"2005\":0,\"2006\":1,\"2007\":2,\"2008\":3,\"2009\":4,\"2010\":5,\"2011\":6,\"2012\":7,\"2013\":8,\"2014\":9}\n",
    "\n",
    "#Players\n",
    "Players = [\"KobeBryant\",\"JoeJohnson\",\"LeBronJames\",\"CarmeloAnthony\",\"DwightHoward\",\"ChrisBosh\",\"ChrisPaul\",\"KevinDurant\",\"DerrickRose\",\"DwayneWade\"]\n",
    "Pdict = {\"KobeBryant\":0,\"JoeJohnson\":1,\"LeBronJames\":2,\"CarmeloAnthony\":3,\"DwightHoward\":4,\"ChrisBosh\":5,\"ChrisPaul\":6,\"KevinDurant\":7,\"DerrickRose\":8,\"DwayneWade\":9}\n",
    "\n",
    "#Salaries\n",
    "KobeBryant_Salary = [15946875,17718750,19490625,21262500,23034375,24806250,25244493,27849149,30453805,23500000]\n",
    "JoeJohnson_Salary = [12000000,12744189,13488377,14232567,14976754,16324500,18038573,19752645,21466718,23180790]\n",
    "LeBronJames_Salary = [4621800,5828090,13041250,14410581,15779912,14500000,16022500,17545000,19067500,20644400]\n",
    "CarmeloAnthony_Salary = [3713640,4694041,13041250,14410581,15779912,17149243,18518574,19450000,22407474,22458000]\n",
    "DwightHoward_Salary = [4493160,4806720,6061274,13758000,15202590,16647180,18091770,19536360,20513178,21436271]\n",
    "ChrisBosh_Salary = [3348000,4235220,12455000,14410581,15779912,14500000,16022500,17545000,19067500,20644400]\n",
    "ChrisPaul_Salary = [3144240,3380160,3615960,4574189,13520500,14940153,16359805,17779458,18668431,20068563]\n",
    "KevinDurant_Salary = [0,0,4171200,4484040,4796880,6053663,15506632,16669630,17832627,18995624]\n",
    "DerrickRose_Salary = [0,0,0,4822800,5184480,5546160,6993708,16402500,17632688,18862875]\n",
    "DwayneWade_Salary = [3031920,3841443,13041250,14410581,15779912,14200000,15691000,17182000,18673000,15000000]\n",
    "#Matrix\n",
    "Salary = np.array([KobeBryant_Salary, JoeJohnson_Salary, LeBronJames_Salary, CarmeloAnthony_Salary, DwightHoward_Salary, ChrisBosh_Salary, ChrisPaul_Salary, KevinDurant_Salary, DerrickRose_Salary, DwayneWade_Salary])\n",
    "\n",
    "#Games \n",
    "KobeBryant_G = [80,77,82,82,73,82,58,78,6,35]\n",
    "JoeJohnson_G = [82,57,82,79,76,72,60,72,79,80]\n",
    "LeBronJames_G = [79,78,75,81,76,79,62,76,77,69]\n",
    "CarmeloAnthony_G = [80,65,77,66,69,77,55,67,77,40]\n",
    "DwightHoward_G = [82,82,82,79,82,78,54,76,71,41]\n",
    "ChrisBosh_G = [70,69,67,77,70,77,57,74,79,44]\n",
    "ChrisPaul_G = [78,64,80,78,45,80,60,70,62,82]\n",
    "KevinDurant_G = [35,35,80,74,82,78,66,81,81,27]\n",
    "DerrickRose_G = [40,40,40,81,78,81,39,0,10,51]\n",
    "DwayneWade_G = [75,51,51,79,77,76,49,69,54,62]\n",
    "#Matrix\n",
    "Games = np.array([KobeBryant_G, JoeJohnson_G, LeBronJames_G, CarmeloAnthony_G, DwightHoward_G, ChrisBosh_G, ChrisPaul_G, KevinDurant_G, DerrickRose_G, DwayneWade_G])\n",
    "\n",
    "#Minutes Played\n",
    "KobeBryant_MP = [3277,3140,3192,2960,2835,2779,2232,3013,177,1207]\n",
    "JoeJohnson_MP = [3340,2359,3343,3124,2886,2554,2127,2642,2575,2791]\n",
    "LeBronJames_MP = [3361,3190,3027,3054,2966,3063,2326,2877,2902,2493]\n",
    "CarmeloAnthony_MP = [2941,2486,2806,2277,2634,2751,1876,2482,2982,1428]\n",
    "DwightHoward_MP = [3021,3023,3088,2821,2843,2935,2070,2722,2396,1223]\n",
    "ChrisBosh_MP = [2751,2658,2425,2928,2526,2795,2007,2454,2531,1556]\n",
    "ChrisPaul_MP = [2808,2353,3006,3002,1712,2880,2181,2335,2171,2857]\n",
    "KevinDurant_MP = [1255,1255,2768,2885,3239,3038,2546,3119,3122,913]\n",
    "DerrickRose_MP = [1168,1168,1168,3000,2871,3026,1375,0,311,1530]\n",
    "DwayneWade_MP = [2892,1931,1954,3048,2792,2823,1625,2391,1775,1971]\n",
    "#Matrix\n",
    "MinutesPlayed = np.array([KobeBryant_MP, JoeJohnson_MP, LeBronJames_MP, CarmeloAnthony_MP, DwightHoward_MP, ChrisBosh_MP, ChrisPaul_MP, KevinDurant_MP, DerrickRose_MP, DwayneWade_MP])\n",
    "\n",
    "#Field Goals\n",
    "KobeBryant_FG = [978,813,775,800,716,740,574,738,31,266]\n",
    "JoeJohnson_FG = [632,536,647,620,635,514,423,445,462,446]\n",
    "LeBronJames_FG = [875,772,794,789,768,758,621,765,767,624]\n",
    "CarmeloAnthony_FG = [756,691,728,535,688,684,441,669,743,358]\n",
    "DwightHoward_FG = [468,526,583,560,510,619,416,470,473,251]\n",
    "ChrisBosh_FG = [549,543,507,615,600,524,393,485,492,343]\n",
    "ChrisPaul_FG = [407,381,630,631,314,430,425,412,406,568]\n",
    "KevinDurant_FG = [306,306,587,661,794,711,643,731,849,238]\n",
    "DerrickRose_FG = [208,208,208,574,672,711,302,0,58,338]\n",
    "DwayneWade_FG = [699,472,439,854,719,692,416,569,415,509]\n",
    "#Matrix\n",
    "FieldGoals  = np.array([KobeBryant_FG, JoeJohnson_FG, LeBronJames_FG, CarmeloAnthony_FG, DwightHoward_FG, ChrisBosh_FG, ChrisPaul_FG, KevinDurant_FG, DerrickRose_FG, DwayneWade_FG])\n",
    "\n",
    "#Field Goal Attempts\n",
    "KobeBryant_FGA = [2173,1757,1690,1712,1569,1639,1336,1595,73,713]\n",
    "JoeJohnson_FGA = [1395,1139,1497,1420,1386,1161,931,1052,1018,1025]\n",
    "LeBronJames_FGA = [1823,1621,1642,1613,1528,1485,1169,1354,1353,1279]\n",
    "CarmeloAnthony_FGA = [1572,1453,1481,1207,1502,1503,1025,1489,1643,806]\n",
    "DwightHoward_FGA = [881,873,974,979,834,1044,726,813,800,423]\n",
    "ChrisBosh_FGA = [1087,1094,1027,1263,1158,1056,807,907,953,745]\n",
    "ChrisPaul_FGA = [947,871,1291,1255,637,928,890,856,870,1170]\n",
    "KevinDurant_FGA = [647,647,1366,1390,1668,1538,1297,1433,1688,467]\n",
    "DerrickRose_FGA = [436,436,436,1208,1373,1597,695,0,164,835]\n",
    "DwayneWade_FGA = [1413,962,937,1739,1511,1384,837,1093,761,1084]\n",
    "#Matrix\n",
    "FieldGoalAttempts = np.array([KobeBryant_FGA, JoeJohnson_FGA, LeBronJames_FGA, CarmeloAnthony_FGA, DwightHoward_FGA, ChrisBosh_FGA, ChrisPaul_FGA, KevinDurant_FGA, DerrickRose_FGA, DwayneWade_FGA])\n",
    "\n",
    "#Points\n",
    "KobeBryant_PTS = [2832,2430,2323,2201,1970,2078,1616,2133,83,782]\n",
    "JoeJohnson_PTS = [1653,1426,1779,1688,1619,1312,1129,1170,1245,1154]\n",
    "LeBronJames_PTS = [2478,2132,2250,2304,2258,2111,1683,2036,2089,1743]\n",
    "CarmeloAnthony_PTS = [2122,1881,1978,1504,1943,1970,1245,1920,2112,966]\n",
    "DwightHoward_PTS = [1292,1443,1695,1624,1503,1784,1113,1296,1297,646]\n",
    "ChrisBosh_PTS = [1572,1561,1496,1746,1678,1438,1025,1232,1281,928]\n",
    "ChrisPaul_PTS = [1258,1104,1684,1781,841,1268,1189,1186,1185,1564]\n",
    "KevinDurant_PTS = [903,903,1624,1871,2472,2161,1850,2280,2593,686]\n",
    "DerrickRose_PTS = [597,597,597,1361,1619,2026,852,0,159,904]\n",
    "DwayneWade_PTS = [2040,1397,1254,2386,2045,1941,1082,1463,1028,1331]\n",
    "#Matrix\n",
    "Points = np.array([KobeBryant_PTS, JoeJohnson_PTS, LeBronJames_PTS, CarmeloAnthony_PTS, DwightHoward_PTS, ChrisBosh_PTS, ChrisPaul_PTS, KevinDurant_PTS, DerrickRose_PTS, DwayneWade_PTS])             \n",
    "                  \n"
   ]
  },
  {
   "cell_type": "code",
   "execution_count": 2,
   "id": "c82f9e70",
   "metadata": {},
   "outputs": [
    {
     "data": {
      "text/plain": [
       "array([[15946875, 17718750, 19490625, 21262500, 23034375, 24806250,\n",
       "        25244493, 27849149, 30453805, 23500000],\n",
       "       [12000000, 12744189, 13488377, 14232567, 14976754, 16324500,\n",
       "        18038573, 19752645, 21466718, 23180790],\n",
       "       [ 4621800,  5828090, 13041250, 14410581, 15779912, 14500000,\n",
       "        16022500, 17545000, 19067500, 20644400],\n",
       "       [ 3713640,  4694041, 13041250, 14410581, 15779912, 17149243,\n",
       "        18518574, 19450000, 22407474, 22458000],\n",
       "       [ 4493160,  4806720,  6061274, 13758000, 15202590, 16647180,\n",
       "        18091770, 19536360, 20513178, 21436271],\n",
       "       [ 3348000,  4235220, 12455000, 14410581, 15779912, 14500000,\n",
       "        16022500, 17545000, 19067500, 20644400],\n",
       "       [ 3144240,  3380160,  3615960,  4574189, 13520500, 14940153,\n",
       "        16359805, 17779458, 18668431, 20068563],\n",
       "       [       0,        0,  4171200,  4484040,  4796880,  6053663,\n",
       "        15506632, 16669630, 17832627, 18995624],\n",
       "       [       0,        0,        0,  4822800,  5184480,  5546160,\n",
       "         6993708, 16402500, 17632688, 18862875],\n",
       "       [ 3031920,  3841443, 13041250, 14410581, 15779912, 14200000,\n",
       "        15691000, 17182000, 18673000, 15000000]])"
      ]
     },
     "execution_count": 2,
     "metadata": {},
     "output_type": "execute_result"
    }
   ],
   "source": [
    "Salary"
   ]
  },
  {
   "cell_type": "code",
   "execution_count": 3,
   "id": "020eae59",
   "metadata": {},
   "outputs": [
    {
     "data": {
      "text/plain": [
       "{'KobeBryant': 0,\n",
       " 'JoeJohnson': 1,\n",
       " 'LeBronJames': 2,\n",
       " 'CarmeloAnthony': 3,\n",
       " 'DwightHoward': 4,\n",
       " 'ChrisBosh': 5,\n",
       " 'ChrisPaul': 6,\n",
       " 'KevinDurant': 7,\n",
       " 'DerrickRose': 8,\n",
       " 'DwayneWade': 9}"
      ]
     },
     "execution_count": 3,
     "metadata": {},
     "output_type": "execute_result"
    }
   ],
   "source": [
    "Pdict"
   ]
  },
  {
   "cell_type": "code",
   "execution_count": 4,
   "id": "f3dbba9a",
   "metadata": {},
   "outputs": [
    {
     "name": "stdout",
     "output_type": "stream",
     "text": [
      "2\n"
     ]
    }
   ],
   "source": [
    "print(Pdict['LeBronJames'])"
   ]
  },
  {
   "cell_type": "code",
   "execution_count": 7,
   "id": "58b39a57",
   "metadata": {},
   "outputs": [
    {
     "data": {
      "text/plain": [
       "{'2005': 0,\n",
       " '2006': 1,\n",
       " '2007': 2,\n",
       " '2008': 3,\n",
       " '2009': 4,\n",
       " '2010': 5,\n",
       " '2011': 6,\n",
       " '2012': 7,\n",
       " '2013': 8,\n",
       " '2014': 9}"
      ]
     },
     "execution_count": 7,
     "metadata": {},
     "output_type": "execute_result"
    }
   ],
   "source": [
    "Sdict"
   ]
  },
  {
   "cell_type": "code",
   "execution_count": 6,
   "id": "1d59a324",
   "metadata": {},
   "outputs": [
    {
     "name": "stdout",
     "output_type": "stream",
     "text": [
      "4\n"
     ]
    }
   ],
   "source": [
    "print(Sdict['2009'])"
   ]
  },
  {
   "cell_type": "code",
   "execution_count": 8,
   "id": "eadf09ee",
   "metadata": {},
   "outputs": [
    {
     "data": {
      "text/plain": [
       "15779912"
      ]
     },
     "execution_count": 8,
     "metadata": {},
     "output_type": "execute_result"
    }
   ],
   "source": [
    "Salary[Pdict['LeBronJames']][Sdict['2009']]"
   ]
  },
  {
   "cell_type": "code",
   "execution_count": 9,
   "id": "4e01c969",
   "metadata": {},
   "outputs": [
    {
     "data": {
      "text/plain": [
       "array([[978, 813, 775, 800, 716, 740, 574, 738,  31, 266],\n",
       "       [632, 536, 647, 620, 635, 514, 423, 445, 462, 446],\n",
       "       [875, 772, 794, 789, 768, 758, 621, 765, 767, 624],\n",
       "       [756, 691, 728, 535, 688, 684, 441, 669, 743, 358],\n",
       "       [468, 526, 583, 560, 510, 619, 416, 470, 473, 251],\n",
       "       [549, 543, 507, 615, 600, 524, 393, 485, 492, 343],\n",
       "       [407, 381, 630, 631, 314, 430, 425, 412, 406, 568],\n",
       "       [306, 306, 587, 661, 794, 711, 643, 731, 849, 238],\n",
       "       [208, 208, 208, 574, 672, 711, 302,   0,  58, 338],\n",
       "       [699, 472, 439, 854, 719, 692, 416, 569, 415, 509]])"
      ]
     },
     "execution_count": 9,
     "metadata": {},
     "output_type": "execute_result"
    }
   ],
   "source": [
    "FieldGoals"
   ]
  },
  {
   "cell_type": "code",
   "execution_count": 10,
   "id": "bd134382",
   "metadata": {},
   "outputs": [
    {
     "data": {
      "text/plain": [
       "array([[80, 77, 82, 82, 73, 82, 58, 78,  6, 35],\n",
       "       [82, 57, 82, 79, 76, 72, 60, 72, 79, 80],\n",
       "       [79, 78, 75, 81, 76, 79, 62, 76, 77, 69],\n",
       "       [80, 65, 77, 66, 69, 77, 55, 67, 77, 40],\n",
       "       [82, 82, 82, 79, 82, 78, 54, 76, 71, 41],\n",
       "       [70, 69, 67, 77, 70, 77, 57, 74, 79, 44],\n",
       "       [78, 64, 80, 78, 45, 80, 60, 70, 62, 82],\n",
       "       [35, 35, 80, 74, 82, 78, 66, 81, 81, 27],\n",
       "       [40, 40, 40, 81, 78, 81, 39,  0, 10, 51],\n",
       "       [75, 51, 51, 79, 77, 76, 49, 69, 54, 62]])"
      ]
     },
     "execution_count": 10,
     "metadata": {},
     "output_type": "execute_result"
    }
   ],
   "source": [
    "Games"
   ]
  },
  {
   "cell_type": "code",
   "execution_count": 13,
   "id": "0288c26e",
   "metadata": {},
   "outputs": [
    {
     "data": {
      "text/plain": [
       "array([[12., 11.,  9., 10., 10.,  9., 10.,  9.,  5.,  8.],\n",
       "       [ 8.,  9.,  8.,  8.,  8.,  7.,  7.,  6.,  6.,  6.],\n",
       "       [11., 10., 11., 10., 10., 10., 10., 10., 10.,  9.],\n",
       "       [ 9., 11.,  9.,  8., 10.,  9.,  8., 10., 10.,  9.],\n",
       "       [ 6.,  6.,  7.,  7.,  6.,  8.,  8.,  6.,  7.,  6.],\n",
       "       [ 8.,  8.,  8.,  8.,  9.,  7.,  7.,  7.,  6.,  8.],\n",
       "       [ 5.,  6.,  8.,  8.,  7.,  5.,  7.,  6.,  7.,  7.],\n",
       "       [ 9.,  9.,  7.,  9., 10.,  9., 10.,  9., 10.,  9.],\n",
       "       [ 5.,  5.,  5.,  7.,  9.,  9.,  8., nan,  6.,  7.],\n",
       "       [ 9.,  9.,  9., 11.,  9.,  9.,  8.,  8.,  8.,  8.]])"
      ]
     },
     "execution_count": 13,
     "metadata": {},
     "output_type": "execute_result"
    }
   ],
   "source": [
    "import warnings\n",
    "warnings.filterwarnings('ignore')\n",
    "np.round(FieldGoals/Games)"
   ]
  },
  {
   "cell_type": "code",
   "execution_count": 14,
   "id": "bad7496a",
   "metadata": {},
   "outputs": [
    {
     "data": {
      "text/plain": [
       "array([[2173, 1757, 1690, 1712, 1569, 1639, 1336, 1595,   73,  713],\n",
       "       [1395, 1139, 1497, 1420, 1386, 1161,  931, 1052, 1018, 1025],\n",
       "       [1823, 1621, 1642, 1613, 1528, 1485, 1169, 1354, 1353, 1279],\n",
       "       [1572, 1453, 1481, 1207, 1502, 1503, 1025, 1489, 1643,  806],\n",
       "       [ 881,  873,  974,  979,  834, 1044,  726,  813,  800,  423],\n",
       "       [1087, 1094, 1027, 1263, 1158, 1056,  807,  907,  953,  745],\n",
       "       [ 947,  871, 1291, 1255,  637,  928,  890,  856,  870, 1170],\n",
       "       [ 647,  647, 1366, 1390, 1668, 1538, 1297, 1433, 1688,  467],\n",
       "       [ 436,  436,  436, 1208, 1373, 1597,  695,    0,  164,  835],\n",
       "       [1413,  962,  937, 1739, 1511, 1384,  837, 1093,  761, 1084]])"
      ]
     },
     "execution_count": 14,
     "metadata": {},
     "output_type": "execute_result"
    }
   ],
   "source": [
    "FieldGoalAttempts"
   ]
  },
  {
   "cell_type": "code",
   "execution_count": 15,
   "id": "b0e92ed1",
   "metadata": {},
   "outputs": [
    {
     "data": {
      "text/plain": [
       "array([[27., 23., 21., 21., 21., 20., 23., 20., 12., 20.],\n",
       "       [17., 20., 18., 18., 18., 16., 16., 15., 13., 13.],\n",
       "       [23., 21., 22., 20., 20., 19., 19., 18., 18., 19.],\n",
       "       [20., 22., 19., 18., 22., 20., 19., 22., 21., 20.],\n",
       "       [11., 11., 12., 12., 10., 13., 13., 11., 11., 10.],\n",
       "       [16., 16., 15., 16., 17., 14., 14., 12., 12., 17.],\n",
       "       [12., 14., 16., 16., 14., 12., 15., 12., 14., 14.],\n",
       "       [18., 18., 17., 19., 20., 20., 20., 18., 21., 17.],\n",
       "       [11., 11., 11., 15., 18., 20., 18., nan, 16., 16.],\n",
       "       [19., 19., 18., 22., 20., 18., 17., 16., 14., 17.]])"
      ]
     },
     "execution_count": 15,
     "metadata": {},
     "output_type": "execute_result"
    }
   ],
   "source": [
    "np.matrix.round(FieldGoalAttempts/Games)"
   ]
  },
  {
   "cell_type": "code",
   "execution_count": 16,
   "id": "ffd4971b",
   "metadata": {},
   "outputs": [
    {
     "data": {
      "text/plain": [
       "array([[3277, 3140, 3192, 2960, 2835, 2779, 2232, 3013,  177, 1207],\n",
       "       [3340, 2359, 3343, 3124, 2886, 2554, 2127, 2642, 2575, 2791],\n",
       "       [3361, 3190, 3027, 3054, 2966, 3063, 2326, 2877, 2902, 2493],\n",
       "       [2941, 2486, 2806, 2277, 2634, 2751, 1876, 2482, 2982, 1428],\n",
       "       [3021, 3023, 3088, 2821, 2843, 2935, 2070, 2722, 2396, 1223],\n",
       "       [2751, 2658, 2425, 2928, 2526, 2795, 2007, 2454, 2531, 1556],\n",
       "       [2808, 2353, 3006, 3002, 1712, 2880, 2181, 2335, 2171, 2857],\n",
       "       [1255, 1255, 2768, 2885, 3239, 3038, 2546, 3119, 3122,  913],\n",
       "       [1168, 1168, 1168, 3000, 2871, 3026, 1375,    0,  311, 1530],\n",
       "       [2892, 1931, 1954, 3048, 2792, 2823, 1625, 2391, 1775, 1971]])"
      ]
     },
     "execution_count": 16,
     "metadata": {},
     "output_type": "execute_result"
    }
   ],
   "source": [
    "MinutesPlayed"
   ]
  },
  {
   "cell_type": "code",
   "execution_count": 17,
   "id": "b14a1338",
   "metadata": {},
   "outputs": [
    {
     "data": {
      "text/plain": [
       "array([[40.9625    , 40.77922078, 38.92682927, 36.09756098, 38.83561644,\n",
       "        33.8902439 , 38.48275862, 38.62820513, 29.5       , 34.48571429],\n",
       "       [40.73170732, 41.38596491, 40.76829268, 39.5443038 , 37.97368421,\n",
       "        35.47222222, 35.45      , 36.69444444, 32.59493671, 34.8875    ],\n",
       "       [42.5443038 , 40.8974359 , 40.36      , 37.7037037 , 39.02631579,\n",
       "        38.7721519 , 37.51612903, 37.85526316, 37.68831169, 36.13043478],\n",
       "       [36.7625    , 38.24615385, 36.44155844, 34.5       , 38.17391304,\n",
       "        35.72727273, 34.10909091, 37.04477612, 38.72727273, 35.7       ],\n",
       "       [36.84146341, 36.86585366, 37.65853659, 35.70886076, 34.67073171,\n",
       "        37.62820513, 38.33333333, 35.81578947, 33.74647887, 29.82926829],\n",
       "       [39.3       , 38.52173913, 36.19402985, 38.02597403, 36.08571429,\n",
       "        36.2987013 , 35.21052632, 33.16216216, 32.03797468, 35.36363636],\n",
       "       [36.        , 36.765625  , 37.575     , 38.48717949, 38.04444444,\n",
       "        36.        , 36.35      , 33.35714286, 35.01612903, 34.84146341],\n",
       "       [35.85714286, 35.85714286, 34.6       , 38.98648649, 39.5       ,\n",
       "        38.94871795, 38.57575758, 38.50617284, 38.54320988, 33.81481481],\n",
       "       [29.2       , 29.2       , 29.2       , 37.03703704, 36.80769231,\n",
       "        37.35802469, 35.25641026,         nan, 31.1       , 30.        ],\n",
       "       [38.56      , 37.8627451 , 38.31372549, 38.58227848, 36.25974026,\n",
       "        37.14473684, 33.16326531, 34.65217391, 32.87037037, 31.79032258]])"
      ]
     },
     "execution_count": 17,
     "metadata": {},
     "output_type": "execute_result"
    }
   ],
   "source": [
    "MinutesPlayed/Games"
   ]
  },
  {
   "cell_type": "code",
   "execution_count": null,
   "id": "386e5c62",
   "metadata": {},
   "outputs": [],
   "source": []
  }
 ],
 "metadata": {
  "kernelspec": {
   "display_name": "Python 3",
   "language": "python",
   "name": "python3"
  },
  "language_info": {
   "codemirror_mode": {
    "name": "ipython",
    "version": 3
   },
   "file_extension": ".py",
   "mimetype": "text/x-python",
   "name": "python",
   "nbconvert_exporter": "python",
   "pygments_lexer": "ipython3",
   "version": "3.8.5"
  }
 },
 "nbformat": 4,
 "nbformat_minor": 5
}
